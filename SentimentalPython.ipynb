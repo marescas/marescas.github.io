{
 "cells": [
  {
   "cell_type": "code",
   "execution_count": null,
   "metadata": {},
   "outputs": [],
   "source": [
    "import re\n",
    "from sklearn.feature_extraction.text import TfidfVectorizer"
   ]
  },
  {
   "cell_type": "code",
   "execution_count": null,
   "metadata": {
    "collapsed": true
   },
   "outputs": [],
   "source": [
    "url_re = re.compile(\"https?://[^\\s]+\")\n",
    "mention_re = re.compile(\"@(\\w+)\")\n",
    "def preprocessing(text):\n",
    "    text_clean = url_re.sub(\"<url>\",text)\n",
    "    text_clean = mention_re.sub(\"<mention>\", text_clean)\n",
    "    text_clean = text_clean.lower()\n",
    "    return text_clean "
   ]
  },
  {
   "cell_type": "code",
   "execution_count": null,
   "metadata": {
    "collapsed": true
   },
   "outputs": [],
   "source": [
    "def representationBOW(corpus):\n",
    "    vectorizerTrain = TfidfVectorizer(ngram_range = (3,5),max_df=0.95,min_df=2,analyzer=\"char_wb\")\n",
    "    bow = vectorizerTrain.fit_transform(corpus)\n",
    "    return bow,vectorizerTrain"
   ]
  },
  {
   "cell_type": "code",
   "execution_count": null,
   "metadata": {},
   "outputs": [],
   "source": [
    "import csv\n",
    "dataText = []\n",
    "dataLabels = []\n",
    "i = 0\n",
    "with open('Tweets.csv') as csv_file:\n",
    "    csv_reader = csv.reader(csv_file, delimiter=',')\n",
    "    \n",
    "    for row in csv_reader:\n",
    "        if i >0:\n",
    "            dataText.append(preprocessing(row[10]))\n",
    "            dataLabels.append(row[1])\n",
    "        i+=1"
   ]
  },
  {
   "cell_type": "code",
   "execution_count": null,
   "metadata": {},
   "outputs": [],
   "source": [
    "from sklearn.model_selection import train_test_split\n",
    "X_train, X_test, y_train, y_test = train_test_split(dataText, dataLabels, test_size=0.20, random_state=42)"
   ]
  },
  {
   "cell_type": "code",
   "execution_count": null,
   "metadata": {},
   "outputs": [],
   "source": [
    "bowTrain,vectorizer = representationBOW(X_train,character=True)"
   ]
  },
  {
   "cell_type": "code",
   "execution_count": null,
   "metadata": {},
   "outputs": [],
   "source": [
    "bowTest = vectorizer.transform(X_test)"
   ]
  },
  {
   "cell_type": "code",
   "execution_count": null,
   "metadata": {},
   "outputs": [],
   "source": [
    "from sklearn.svm import SVC\n",
    "kernels = [\"rbf\",\"linear\"]\n",
    "cs = [1,10,100,1000]\n",
    "for kernel in kernels:\n",
    "    for c in cs:\n",
    "        clf = SVC(kernel=kernel,C=c)\n",
    "        clf.fit(bowTrain, y_train)\n",
    "        print(\"%s \\t %d \\t %.3f \" %(kernel[0:3],c,clf.score(bowTest,y_test)))"
   ]
  },
  {
   "cell_type": "code",
   "execution_count": null,
   "metadata": {},
   "outputs": [],
   "source": [
    "from sklearn.linear_model import LogisticRegression\n",
    "cs = [0.05, 0.1, 0.25, 0.5, 0.75, 1, 10, 100, 1000]\n",
    "for c in cs:\n",
    "    clf = LogisticRegression(C=c)\n",
    "    clf.fit(bowTrain, y_train)\n",
    "    print(\"%.3f \\t %.3f \" %(c,clf.score(bowTest,y_test)))"
   ]
  },
  {
   "cell_type": "code",
   "execution_count": null,
   "metadata": {
    "collapsed": true
   },
   "outputs": [],
   "source": []
  }
 ],
 "metadata": {
  "kernelspec": {
   "display_name": "Python 3",
   "language": "python",
   "name": "python3"
  },
  "language_info": {
   "codemirror_mode": {
    "name": "ipython",
    "version": 3
   },
   "file_extension": ".py",
   "mimetype": "text/x-python",
   "name": "python",
   "nbconvert_exporter": "python",
   "pygments_lexer": "ipython3",
   "version": "3.6.1"
  }
 },
 "nbformat": 4,
 "nbformat_minor": 2
}
