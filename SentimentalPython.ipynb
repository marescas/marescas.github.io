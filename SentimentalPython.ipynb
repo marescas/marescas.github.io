{
 "cells": [
  {
   "cell_type": "code",
   "execution_count": 1,
   "metadata": {},
   "outputs": [],
   "source": [
    "import re\n",
    "from sklearn.feature_extraction.text import TfidfVectorizer"
   ]
  },
  {
   "cell_type": "code",
   "execution_count": 2,
   "metadata": {
    "collapsed": true
   },
   "outputs": [],
   "source": [
    "url_re = re.compile(\"https?://[^\\s]+\")\n",
    "mention_re = re.compile(\"@(\\w+)\")\n",
    "def preprocessing(text):\n",
    "    text_clean = url_re.sub(\"<url>\",text)\n",
    "    text_clean = mention_re.sub(\"<mention>\", text_clean)\n",
    "    text_clean = text_clean.lower()\n",
    "    return text_clean "
   ]
  },
  {
   "cell_type": "code",
   "execution_count": 3,
   "metadata": {
    "collapsed": true
   },
   "outputs": [],
   "source": [
    "def representationBOW(corpus):\n",
    "    vectorizerTrain = TfidfVectorizer(ngram_range = (3,5),max_df=0.95,min_df=2,analyzer=\"char_wb\")\n",
    "    bow = vectorizerTrain.fit_transform(corpus)\n",
    "    return bow,vectorizerTrain"
   ]
  },
  {
   "cell_type": "code",
   "execution_count": 4,
   "metadata": {},
   "outputs": [],
   "source": [
    "import csv\n",
    "dataText = []\n",
    "dataLabels = []\n",
    "i = 0\n",
    "with open('Tweets.csv') as csv_file:\n",
    "    csv_reader = csv.reader(csv_file, delimiter=',')\n",
    "    \n",
    "    for row in csv_reader:\n",
    "        if i >0:\n",
    "            dataText.append(preprocessing(row[10]))\n",
    "            dataLabels.append(row[1])\n",
    "        i+=1"
   ]
  },
  {
   "cell_type": "code",
   "execution_count": 5,
   "metadata": {},
   "outputs": [],
   "source": [
    "from sklearn.model_selection import train_test_split\n",
    "X_train, X_test, y_train, y_test = train_test_split(dataText, dataLabels, test_size=0.20, random_state=42)"
   ]
  },
  {
   "cell_type": "code",
   "execution_count": 6,
   "metadata": {},
   "outputs": [
    {
     "name": "stderr",
     "output_type": "stream",
     "text": [
      "/Users/marcosesteve/anaconda/lib/python3.6/site-packages/sklearn/feature_extraction/text.py:1059: FutureWarning: Conversion of the second argument of issubdtype from `float` to `np.floating` is deprecated. In future, it will be treated as `np.float64 == np.dtype(float).type`.\n",
      "  if hasattr(X, 'dtype') and np.issubdtype(X.dtype, np.float):\n"
     ]
    }
   ],
   "source": [
    "bowTrain,vectorizer = representationBOW(X_train,character=True)"
   ]
  },
  {
   "cell_type": "code",
   "execution_count": 7,
   "metadata": {},
   "outputs": [
    {
     "name": "stderr",
     "output_type": "stream",
     "text": [
      "/Users/marcosesteve/anaconda/lib/python3.6/site-packages/sklearn/feature_extraction/text.py:1059: FutureWarning: Conversion of the second argument of issubdtype from `float` to `np.floating` is deprecated. In future, it will be treated as `np.float64 == np.dtype(float).type`.\n",
      "  if hasattr(X, 'dtype') and np.issubdtype(X.dtype, np.float):\n"
     ]
    }
   ],
   "source": [
    "bowTest = vectorizer.transform(X_test)"
   ]
  },
  {
   "cell_type": "code",
   "execution_count": 8,
   "metadata": {},
   "outputs": [
    {
     "name": "stdout",
     "output_type": "stream",
     "text": [
      "rbf \t 1 \t 0.645 \n",
      "rbf \t 10 \t 0.645 \n",
      "rbf \t 100 \t 0.645 \n",
      "rbf \t 1000 \t 0.683 \n",
      "lin \t 1 \t 0.815 \n",
      "lin \t 10 \t 0.788 \n",
      "lin \t 100 \t 0.771 \n",
      "lin \t 1000 \t 0.761 \n"
     ]
    }
   ],
   "source": [
    "from sklearn.svm import SVC\n",
    "kernels = [\"rbf\",\"linear\"]\n",
    "cs = [1,10,100,1000]\n",
    "for kernel in kernels:\n",
    "    for c in cs:\n",
    "        clf = SVC(kernel=kernel,C=c)\n",
    "        clf.fit(bowTrain, y_train)\n",
    "        print(\"%s \\t %d \\t %.3f \" %(kernel[0:3],c,clf.score(bowTest,y_test)))"
   ]
  },
  {
   "cell_type": "code",
   "execution_count": 13,
   "metadata": {},
   "outputs": [
    {
     "name": "stdout",
     "output_type": "stream",
     "text": [
      "0.050 \t 0.682 \n",
      "0.100 \t 0.717 \n",
      "0.250 \t 0.762 \n",
      "0.500 \t 0.798 \n",
      "0.750 \t 0.810 \n",
      "1.000 \t 0.813 \n",
      "10.000 \t 0.812 \n",
      "100.000 \t 0.796 \n",
      "1000.000 \t 0.781 \n"
     ]
    }
   ],
   "source": [
    "from sklearn.linear_model import LogisticRegression\n",
    "cs = [0.05, 0.1, 0.25, 0.5, 0.75, 1, 10, 100, 1000]\n",
    "for c in cs:\n",
    "    clf = LogisticRegression(C=c)\n",
    "    clf.fit(bowTrain, y_train)\n",
    "    print(\"%.3f \\t %.3f \" %(c,clf.score(bowTest,y_test)))"
   ]
  },
  {
   "cell_type": "code",
   "execution_count": null,
   "metadata": {
    "collapsed": true
   },
   "outputs": [],
   "source": []
  }
 ],
 "metadata": {
  "kernelspec": {
   "display_name": "Python 3",
   "language": "python",
   "name": "python3"
  },
  "language_info": {
   "codemirror_mode": {
    "name": "ipython",
    "version": 3
   },
   "file_extension": ".py",
   "mimetype": "text/x-python",
   "name": "python",
   "nbconvert_exporter": "python",
   "pygments_lexer": "ipython3",
   "version": "3.6.1"
  }
 },
 "nbformat": 4,
 "nbformat_minor": 2
}
